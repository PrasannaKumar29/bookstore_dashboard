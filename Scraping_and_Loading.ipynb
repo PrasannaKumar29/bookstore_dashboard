{
 "cells": [
  {
   "cell_type": "code",
   "execution_count": 50,
   "id": "fdca6842",
   "metadata": {},
   "outputs": [],
   "source": [
    "import requests\n",
    "from bs4 import BeautifulSoup\n",
    "import csv\n",
    "import pandas as pd\n",
    "import os"
   ]
  },
  {
   "cell_type": "code",
   "execution_count": 51,
   "id": "efdaaa02",
   "metadata": {},
   "outputs": [],
   "source": [
    "URL = 'https://books.toscrape.com/catalogue/page-'\n",
    "books,price,ratings,stock=[],[],[],[]"
   ]
  },
  {
   "cell_type": "code",
   "execution_count": 52,
   "id": "0c1437e5",
   "metadata": {},
   "outputs": [],
   "source": [
    "for page in range(1,51):\n",
    "    src=requests.get(URL + str(page) + '.html')\n",
    "    Scrape = BeautifulSoup(src.text,'html.parser')\n",
    "    \n",
    "    for article in Scrape.find_all('article'):\n",
    "        # Grabbing book titles\n",
    "        title = article.h3.a.text\n",
    "        books.append(title)\n",
    "\n",
    "        # Grabbing book price\n",
    "        cost = article.find('div', class_='product_price').p.text\n",
    "        price.append(cost)\n",
    "\n",
    "         # Grabbing book rating\n",
    "        rating_tag = article.find('p', class_='star-rating')\n",
    "        rating_classes = rating_tag['class']  # Get all classes of the rating tag\n",
    "        rating = rating_classes[1]  # The second class represents the rating\n",
    "        ratings.append(rating)\n",
    "\n",
    "        # Grabbing stock availability of each book\n",
    "        status = article.find('p', class_='instock availability').text.strip()\n",
    "        stock.append(status)"
   ]
  },
  {
   "cell_type": "code",
   "execution_count": 53,
   "id": "bb2fe957",
   "metadata": {},
   "outputs": [
    {
     "data": {
      "text/html": [
       "<div>\n",
       "<style scoped>\n",
       "    .dataframe tbody tr th:only-of-type {\n",
       "        vertical-align: middle;\n",
       "    }\n",
       "\n",
       "    .dataframe tbody tr th {\n",
       "        vertical-align: top;\n",
       "    }\n",
       "\n",
       "    .dataframe thead th {\n",
       "        text-align: right;\n",
       "    }\n",
       "</style>\n",
       "<table border=\"1\" class=\"dataframe\">\n",
       "  <thead>\n",
       "    <tr style=\"text-align: right;\">\n",
       "      <th></th>\n",
       "      <th>BOOK_TITLE</th>\n",
       "      <th>PRICE</th>\n",
       "      <th>RATING</th>\n",
       "      <th>AVAILABILITY</th>\n",
       "    </tr>\n",
       "  </thead>\n",
       "  <tbody>\n",
       "    <tr>\n",
       "      <th>0</th>\n",
       "      <td>A Light in the ...</td>\n",
       "      <td>Â£51.77</td>\n",
       "      <td>Three</td>\n",
       "      <td>In stock</td>\n",
       "    </tr>\n",
       "    <tr>\n",
       "      <th>1</th>\n",
       "      <td>Tipping the Velvet</td>\n",
       "      <td>Â£53.74</td>\n",
       "      <td>One</td>\n",
       "      <td>In stock</td>\n",
       "    </tr>\n",
       "    <tr>\n",
       "      <th>2</th>\n",
       "      <td>Soumission</td>\n",
       "      <td>Â£50.10</td>\n",
       "      <td>One</td>\n",
       "      <td>In stock</td>\n",
       "    </tr>\n",
       "    <tr>\n",
       "      <th>3</th>\n",
       "      <td>Sharp Objects</td>\n",
       "      <td>Â£47.82</td>\n",
       "      <td>Four</td>\n",
       "      <td>In stock</td>\n",
       "    </tr>\n",
       "    <tr>\n",
       "      <th>4</th>\n",
       "      <td>Sapiens: A Brief History ...</td>\n",
       "      <td>Â£54.23</td>\n",
       "      <td>Five</td>\n",
       "      <td>In stock</td>\n",
       "    </tr>\n",
       "  </tbody>\n",
       "</table>\n",
       "</div>"
      ],
      "text/plain": [
       "                     BOOK_TITLE    PRICE RATING AVAILABILITY\n",
       "0            A Light in the ...  Â£51.77  Three     In stock\n",
       "1            Tipping the Velvet  Â£53.74    One     In stock\n",
       "2                    Soumission  Â£50.10    One     In stock\n",
       "3                 Sharp Objects  Â£47.82   Four     In stock\n",
       "4  Sapiens: A Brief History ...  Â£54.23   Five     In stock"
      ]
     },
     "execution_count": 53,
     "metadata": {},
     "output_type": "execute_result"
    }
   ],
   "source": [
    "Scraped_Data = {'BOOK_TITLE':books,'PRICE':price,'RATING':ratings,'AVAILABILITY':stock}\n",
    "data_scraped = pd.DataFrame(Scraped_Data)\n",
    "data_scraped.head()"
   ]
  },
  {
   "cell_type": "code",
   "execution_count": 54,
   "id": "4fc0e7d1",
   "metadata": {},
   "outputs": [
    {
     "name": "stdout",
     "output_type": "stream",
     "text": [
      "<class 'pandas.core.frame.DataFrame'>\n",
      "RangeIndex: 1000 entries, 0 to 999\n",
      "Data columns (total 4 columns):\n",
      " #   Column        Non-Null Count  Dtype \n",
      "---  ------        --------------  ----- \n",
      " 0   BOOK_TITLE    1000 non-null   object\n",
      " 1   PRICE         1000 non-null   object\n",
      " 2   RATING        1000 non-null   object\n",
      " 3   AVAILABILITY  1000 non-null   object\n",
      "dtypes: object(4)\n",
      "memory usage: 31.4+ KB\n"
     ]
    }
   ],
   "source": [
    "data_scraped.info()"
   ]
  },
  {
   "cell_type": "code",
   "execution_count": 55,
   "id": "94c57bda",
   "metadata": {},
   "outputs": [
    {
     "data": {
      "text/plain": [
       "BOOK_TITLE      992\n",
       "PRICE           903\n",
       "RATING            5\n",
       "AVAILABILITY      1\n",
       "dtype: int64"
      ]
     },
     "execution_count": 55,
     "metadata": {},
     "output_type": "execute_result"
    }
   ],
   "source": [
    "data_scraped.nunique()"
   ]
  },
  {
   "cell_type": "code",
   "execution_count": 56,
   "id": "c177c754",
   "metadata": {},
   "outputs": [
    {
     "data": {
      "text/plain": [
       "array(['Three', 'One', 'Four', 'Five', 'Two'], dtype=object)"
      ]
     },
     "execution_count": 56,
     "metadata": {},
     "output_type": "execute_result"
    }
   ],
   "source": [
    "data_scraped['RATING'].unique()"
   ]
  },
  {
   "cell_type": "code",
   "execution_count": 57,
   "id": "aa1fc528",
   "metadata": {},
   "outputs": [
    {
     "data": {
      "text/plain": [
       "array(['In stock'], dtype=object)"
      ]
     },
     "execution_count": 57,
     "metadata": {},
     "output_type": "execute_result"
    }
   ],
   "source": [
    "data_scraped['AVAILABILITY'].unique()"
   ]
  },
  {
   "cell_type": "code",
   "execution_count": 58,
   "id": "c29bf7bf",
   "metadata": {},
   "outputs": [],
   "source": [
    "df=data_scraped.copy()"
   ]
  },
  {
   "cell_type": "code",
   "execution_count": 29,
   "id": "4bad61e0",
   "metadata": {},
   "outputs": [],
   "source": [
    "# src=requests.get(URL + str(1) + '.html')\n",
    "# Scrape = BeautifulSoup(Source.text,'html.parser')\n",
    "# for article in Scrape.find_all('article'):\n",
    "#     print(article)\n",
    "#     print('--------------------------------------------------------------')"
   ]
  },
  {
   "cell_type": "markdown",
   "id": "f399c3eb",
   "metadata": {},
   "source": [
    "### Transformations"
   ]
  },
  {
   "cell_type": "code",
   "execution_count": 59,
   "id": "ef35b1d0",
   "metadata": {},
   "outputs": [],
   "source": [
    "#removing \"Â£\" in the price column\n",
    "df['PRICE'] = df['PRICE'].str.replace('Â£', '')\n",
    "df['PRICE'] = pd.to_numeric(df['PRICE'])\n",
    "df.rename(columns={'PRICE': 'PRICE_IN_EUROS'}, inplace=True)\n",
    "\n",
    "#transforming rating\n",
    "rating_mapping = {'One': 1, 'Two': 2, 'Three': 3, 'Four': 4, 'Five': 5}\n",
    "df['RATING'] = df['RATING'].map(rating_mapping)"
   ]
  },
  {
   "cell_type": "code",
   "execution_count": 60,
   "id": "d9adc97f",
   "metadata": {},
   "outputs": [
    {
     "data": {
      "text/html": [
       "<div>\n",
       "<style scoped>\n",
       "    .dataframe tbody tr th:only-of-type {\n",
       "        vertical-align: middle;\n",
       "    }\n",
       "\n",
       "    .dataframe tbody tr th {\n",
       "        vertical-align: top;\n",
       "    }\n",
       "\n",
       "    .dataframe thead th {\n",
       "        text-align: right;\n",
       "    }\n",
       "</style>\n",
       "<table border=\"1\" class=\"dataframe\">\n",
       "  <thead>\n",
       "    <tr style=\"text-align: right;\">\n",
       "      <th></th>\n",
       "      <th>BOOK_TITLE</th>\n",
       "      <th>PRICE_IN_EUROS</th>\n",
       "      <th>RATING</th>\n",
       "      <th>AVAILABILITY</th>\n",
       "    </tr>\n",
       "  </thead>\n",
       "  <tbody>\n",
       "    <tr>\n",
       "      <th>0</th>\n",
       "      <td>A Light in the ...</td>\n",
       "      <td>51.77</td>\n",
       "      <td>3</td>\n",
       "      <td>In stock</td>\n",
       "    </tr>\n",
       "    <tr>\n",
       "      <th>1</th>\n",
       "      <td>Tipping the Velvet</td>\n",
       "      <td>53.74</td>\n",
       "      <td>1</td>\n",
       "      <td>In stock</td>\n",
       "    </tr>\n",
       "    <tr>\n",
       "      <th>2</th>\n",
       "      <td>Soumission</td>\n",
       "      <td>50.10</td>\n",
       "      <td>1</td>\n",
       "      <td>In stock</td>\n",
       "    </tr>\n",
       "    <tr>\n",
       "      <th>3</th>\n",
       "      <td>Sharp Objects</td>\n",
       "      <td>47.82</td>\n",
       "      <td>4</td>\n",
       "      <td>In stock</td>\n",
       "    </tr>\n",
       "    <tr>\n",
       "      <th>4</th>\n",
       "      <td>Sapiens: A Brief History ...</td>\n",
       "      <td>54.23</td>\n",
       "      <td>5</td>\n",
       "      <td>In stock</td>\n",
       "    </tr>\n",
       "    <tr>\n",
       "      <th>...</th>\n",
       "      <td>...</td>\n",
       "      <td>...</td>\n",
       "      <td>...</td>\n",
       "      <td>...</td>\n",
       "    </tr>\n",
       "    <tr>\n",
       "      <th>995</th>\n",
       "      <td>Alice in Wonderland (Alice's ...</td>\n",
       "      <td>55.53</td>\n",
       "      <td>1</td>\n",
       "      <td>In stock</td>\n",
       "    </tr>\n",
       "    <tr>\n",
       "      <th>996</th>\n",
       "      <td>Ajin: Demi-Human, Volume 1 ...</td>\n",
       "      <td>57.06</td>\n",
       "      <td>4</td>\n",
       "      <td>In stock</td>\n",
       "    </tr>\n",
       "    <tr>\n",
       "      <th>997</th>\n",
       "      <td>A Spy's Devotion (The ...</td>\n",
       "      <td>16.97</td>\n",
       "      <td>5</td>\n",
       "      <td>In stock</td>\n",
       "    </tr>\n",
       "    <tr>\n",
       "      <th>998</th>\n",
       "      <td>1st to Die (Women's ...</td>\n",
       "      <td>53.98</td>\n",
       "      <td>1</td>\n",
       "      <td>In stock</td>\n",
       "    </tr>\n",
       "    <tr>\n",
       "      <th>999</th>\n",
       "      <td>1,000 Places to See ...</td>\n",
       "      <td>26.08</td>\n",
       "      <td>5</td>\n",
       "      <td>In stock</td>\n",
       "    </tr>\n",
       "  </tbody>\n",
       "</table>\n",
       "<p>1000 rows × 4 columns</p>\n",
       "</div>"
      ],
      "text/plain": [
       "                           BOOK_TITLE  PRICE_IN_EUROS  RATING AVAILABILITY\n",
       "0                  A Light in the ...           51.77       3     In stock\n",
       "1                  Tipping the Velvet           53.74       1     In stock\n",
       "2                          Soumission           50.10       1     In stock\n",
       "3                       Sharp Objects           47.82       4     In stock\n",
       "4        Sapiens: A Brief History ...           54.23       5     In stock\n",
       "..                                ...             ...     ...          ...\n",
       "995  Alice in Wonderland (Alice's ...           55.53       1     In stock\n",
       "996    Ajin: Demi-Human, Volume 1 ...           57.06       4     In stock\n",
       "997         A Spy's Devotion (The ...           16.97       5     In stock\n",
       "998           1st to Die (Women's ...           53.98       1     In stock\n",
       "999           1,000 Places to See ...           26.08       5     In stock\n",
       "\n",
       "[1000 rows x 4 columns]"
      ]
     },
     "execution_count": 60,
     "metadata": {},
     "output_type": "execute_result"
    }
   ],
   "source": [
    "df"
   ]
  },
  {
   "cell_type": "code",
   "execution_count": 63,
   "id": "54ec6e2a",
   "metadata": {},
   "outputs": [],
   "source": [
    "df.to_csv(\"BS_SCRAPED_DATA.csv\",index=False)"
   ]
  },
  {
   "cell_type": "code",
   "execution_count": 33,
   "id": "c6612c89",
   "metadata": {},
   "outputs": [],
   "source": [
    "import snowflake.connector as sf"
   ]
  },
  {
   "cell_type": "code",
   "execution_count": 34,
   "id": "74a49490",
   "metadata": {},
   "outputs": [],
   "source": [
    "conn = sf.connect(\n",
    "    user='XXXXXX',\n",
    "    password='XXXXXX',\n",
    "    account='XXXXXXX',\n",
    "    warehouse='COMPUTE_WH',\n",
    "    database='CODING_CHALLENGE',\n",
    "    schema='PUBLIC',\n",
    "    role='ACCOUNTADMIN'\n",
    "    )"
   ]
  },
  {
   "cell_type": "code",
   "execution_count": 35,
   "id": "2be94b72",
   "metadata": {},
   "outputs": [],
   "source": [
    "cur=conn.cursor()"
   ]
  },
  {
   "cell_type": "code",
   "execution_count": 64,
   "id": "35eb0deb",
   "metadata": {},
   "outputs": [
    {
     "data": {
      "text/plain": [
       "Index(['BOOK_TITLE', 'PRICE_IN_EUROS', 'RATING', 'AVAILABILITY'], dtype='object')"
      ]
     },
     "execution_count": 64,
     "metadata": {},
     "output_type": "execute_result"
    }
   ],
   "source": [
    "df.columns"
   ]
  },
  {
   "cell_type": "code",
   "execution_count": 37,
   "id": "01445036",
   "metadata": {},
   "outputs": [
    {
     "data": {
      "text/plain": [
       "<snowflake.connector.cursor.SnowflakeCursor at 0x198e757fcd0>"
      ]
     },
     "execution_count": 37,
     "metadata": {},
     "output_type": "execute_result"
    }
   ],
   "source": [
    "# Specify the table name\n",
    "table_name = 'book_store'\n",
    "\n",
    "# Define the CREATE TABLE SQL query\n",
    "create_table_query = f'''\n",
    "CREATE TABLE {table_name} (\n",
    "    book_title VARCHAR,\n",
    "    price_in_euros FLOAT,\n",
    "    rating INT,\n",
    "    availability VARCHAR\n",
    ")\n",
    "'''\n",
    "\n",
    "cur.execute(create_table_query)"
   ]
  },
  {
   "cell_type": "code",
   "execution_count": 38,
   "id": "ee32e6c2",
   "metadata": {},
   "outputs": [],
   "source": [
    "from snowflake.connector.pandas_tools import write_pandas"
   ]
  },
  {
   "cell_type": "code",
   "execution_count": 65,
   "id": "3cc059c5",
   "metadata": {},
   "outputs": [
    {
     "data": {
      "text/plain": [
       "(True,\n",
       " 1,\n",
       " 1000,\n",
       " [('fjsjlzhlqp/file0.txt',\n",
       "   'LOADED',\n",
       "   1000,\n",
       "   1000,\n",
       "   1,\n",
       "   0,\n",
       "   None,\n",
       "   None,\n",
       "   None,\n",
       "   None)])"
      ]
     },
     "execution_count": 65,
     "metadata": {},
     "output_type": "execute_result"
    }
   ],
   "source": [
    "write_pandas(conn,df,table_name=\"BOOK_STORE\")"
   ]
  },
  {
   "cell_type": "markdown",
   "id": "07ded7fa",
   "metadata": {},
   "source": [
    "Hence the table is successfully loaded into snowflake"
   ]
  },
  {
   "cell_type": "code",
   "execution_count": null,
   "id": "50b2084e",
   "metadata": {},
   "outputs": [],
   "source": []
  },
  {
   "cell_type": "code",
   "execution_count": null,
   "id": "75b89bd6",
   "metadata": {},
   "outputs": [],
   "source": []
  },
  {
   "cell_type": "code",
   "execution_count": null,
   "id": "8abad3b6",
   "metadata": {},
   "outputs": [],
   "source": []
  }
 ],
 "metadata": {
  "kernelspec": {
   "display_name": "Python 3 (ipykernel)",
   "language": "python",
   "name": "python3"
  },
  "language_info": {
   "codemirror_mode": {
    "name": "ipython",
    "version": 3
   },
   "file_extension": ".py",
   "mimetype": "text/x-python",
   "name": "python",
   "nbconvert_exporter": "python",
   "pygments_lexer": "ipython3",
   "version": "3.11.5"
  }
 },
 "nbformat": 4,
 "nbformat_minor": 5
}
